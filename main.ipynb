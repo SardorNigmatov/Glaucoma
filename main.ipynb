{
 "cells": [
  {
   "cell_type": "code",
   "execution_count": null,
   "metadata": {},
   "outputs": [],
   "source": [
    "import os\n",
    "\n",
    "def rename_images_based_on_class(root_dir):\n",
    "\n",
    "    for class_name in os.listdir(root_dir):\n",
    "        class_dir = os.path.join(root_dir, class_name)\n",
    "        if os.path.isdir(class_dir):\n",
    "\n",
    "            for filename in os.listdir(class_dir):\n",
    "                file_path = os.path.join(class_dir, filename)\n",
    "\n",
    "                new_filename = class_name + '_' + filename  \n",
    "                new_file_path = os.path.join(class_dir, new_filename)\n",
    "                os.rename(file_path, new_file_path)\n",
    "                print(f\"Renamed {filename} to {new_filename}\")\n",
    "\n",
    "if __name__ == '__main__':\n",
    "    dataset_root = './dataset/val/'\n",
    "    rename_images_based_on_class(dataset_root)"
   ]
  },
  {
   "cell_type": "markdown",
   "metadata": {},
   "source": [
    "### Glaucoma "
   ]
  },
  {
   "cell_type": "markdown",
   "metadata": {},
   "source": [
    " - referable glaucoma (RG) - glaukomaga tavsiya etilgan \n",
    " - non-referable glaucoma (NRG) - glaukomaga tavsiya etilmagan "
   ]
  },
  {
   "cell_type": "code",
   "execution_count": 1,
   "metadata": {},
   "outputs": [],
   "source": [
    "import numpy as np\n",
    "import pandas as pd\n",
    "import matplotlib.pyplot as plt\n",
    "import seaborn as sns"
   ]
  },
  {
   "cell_type": "code",
   "execution_count": 35,
   "metadata": {},
   "outputs": [],
   "source": [
    "df = pd.read_csv(\"./metadata.csv\",index_col='id')"
   ]
  },
  {
   "cell_type": "code",
   "execution_count": 36,
   "metadata": {},
   "outputs": [
    {
     "data": {
      "text/html": [
       "<div>\n",
       "<style scoped>\n",
       "    .dataframe tbody tr th:only-of-type {\n",
       "        vertical-align: middle;\n",
       "    }\n",
       "\n",
       "    .dataframe tbody tr th {\n",
       "        vertical-align: top;\n",
       "    }\n",
       "\n",
       "    .dataframe thead th {\n",
       "        text-align: right;\n",
       "    }\n",
       "</style>\n",
       "<table border=\"1\" class=\"dataframe\">\n",
       "  <thead>\n",
       "    <tr style=\"text-align: right;\">\n",
       "      <th></th>\n",
       "      <th>file_name</th>\n",
       "      <th>label</th>\n",
       "      <th>label_binary</th>\n",
       "      <th>folder</th>\n",
       "      <th>source_dataset</th>\n",
       "      <th>relative_file_type</th>\n",
       "      <th>file_path</th>\n",
       "    </tr>\n",
       "    <tr>\n",
       "      <th>id</th>\n",
       "      <th></th>\n",
       "      <th></th>\n",
       "      <th></th>\n",
       "      <th></th>\n",
       "      <th></th>\n",
       "      <th></th>\n",
       "      <th></th>\n",
       "    </tr>\n",
       "  </thead>\n",
       "  <tbody>\n",
       "    <tr>\n",
       "      <th>2580</th>\n",
       "      <td>EyePACS-TRAIN-RG-2580.jpg</td>\n",
       "      <td>RG</td>\n",
       "      <td>1</td>\n",
       "      <td>validation</td>\n",
       "      <td>EyePACS-TRAIN</td>\n",
       "      <td>jpg</td>\n",
       "      <td>/eyepac-light-v2-512-jpg/validation/RG/</td>\n",
       "    </tr>\n",
       "    <tr>\n",
       "      <th>2617</th>\n",
       "      <td>EyePACS-TRAIN-RG-2617.jpg</td>\n",
       "      <td>RG</td>\n",
       "      <td>1</td>\n",
       "      <td>validation</td>\n",
       "      <td>EyePACS-TRAIN</td>\n",
       "      <td>jpg</td>\n",
       "      <td>/eyepac-light-v2-512-jpg/validation/RG/</td>\n",
       "    </tr>\n",
       "    <tr>\n",
       "      <th>2794</th>\n",
       "      <td>EyePACS-TRAIN-RG-2794.jpg</td>\n",
       "      <td>RG</td>\n",
       "      <td>1</td>\n",
       "      <td>validation</td>\n",
       "      <td>EyePACS-TRAIN</td>\n",
       "      <td>jpg</td>\n",
       "      <td>/eyepac-light-v2-512-jpg/validation/RG/</td>\n",
       "    </tr>\n",
       "    <tr>\n",
       "      <th>2696</th>\n",
       "      <td>EyePACS-TRAIN-RG-2696.jpg</td>\n",
       "      <td>RG</td>\n",
       "      <td>1</td>\n",
       "      <td>validation</td>\n",
       "      <td>EyePACS-TRAIN</td>\n",
       "      <td>jpg</td>\n",
       "      <td>/eyepac-light-v2-512-jpg/validation/RG/</td>\n",
       "    </tr>\n",
       "    <tr>\n",
       "      <th>2585</th>\n",
       "      <td>EyePACS-TRAIN-RG-2585.jpg</td>\n",
       "      <td>RG</td>\n",
       "      <td>1</td>\n",
       "      <td>validation</td>\n",
       "      <td>EyePACS-TRAIN</td>\n",
       "      <td>jpg</td>\n",
       "      <td>/eyepac-light-v2-512-jpg/validation/RG/</td>\n",
       "    </tr>\n",
       "    <tr>\n",
       "      <th>2637</th>\n",
       "      <td>EyePACS-TRAIN-RG-2637.jpg</td>\n",
       "      <td>RG</td>\n",
       "      <td>1</td>\n",
       "      <td>validation</td>\n",
       "      <td>EyePACS-TRAIN</td>\n",
       "      <td>jpg</td>\n",
       "      <td>/eyepac-light-v2-512-jpg/validation/RG/</td>\n",
       "    </tr>\n",
       "    <tr>\n",
       "      <th>2537</th>\n",
       "      <td>EyePACS-TRAIN-RG-2537.jpg</td>\n",
       "      <td>RG</td>\n",
       "      <td>1</td>\n",
       "      <td>validation</td>\n",
       "      <td>EyePACS-TRAIN</td>\n",
       "      <td>jpg</td>\n",
       "      <td>/eyepac-light-v2-512-jpg/validation/RG/</td>\n",
       "    </tr>\n",
       "    <tr>\n",
       "      <th>2732</th>\n",
       "      <td>EyePACS-TRAIN-RG-2732.jpg</td>\n",
       "      <td>RG</td>\n",
       "      <td>1</td>\n",
       "      <td>validation</td>\n",
       "      <td>EyePACS-TRAIN</td>\n",
       "      <td>jpg</td>\n",
       "      <td>/eyepac-light-v2-512-jpg/validation/RG/</td>\n",
       "    </tr>\n",
       "    <tr>\n",
       "      <th>2707</th>\n",
       "      <td>EyePACS-TRAIN-RG-2707.jpg</td>\n",
       "      <td>RG</td>\n",
       "      <td>1</td>\n",
       "      <td>validation</td>\n",
       "      <td>EyePACS-TRAIN</td>\n",
       "      <td>jpg</td>\n",
       "      <td>/eyepac-light-v2-512-jpg/validation/RG/</td>\n",
       "    </tr>\n",
       "    <tr>\n",
       "      <th>2577</th>\n",
       "      <td>EyePACS-TRAIN-RG-2577.jpg</td>\n",
       "      <td>RG</td>\n",
       "      <td>1</td>\n",
       "      <td>validation</td>\n",
       "      <td>EyePACS-TRAIN</td>\n",
       "      <td>jpg</td>\n",
       "      <td>/eyepac-light-v2-512-jpg/validation/RG/</td>\n",
       "    </tr>\n",
       "  </tbody>\n",
       "</table>\n",
       "</div>"
      ],
      "text/plain": [
       "                      file_name label  label_binary      folder  \\\n",
       "id                                                                \n",
       "2580  EyePACS-TRAIN-RG-2580.jpg    RG             1  validation   \n",
       "2617  EyePACS-TRAIN-RG-2617.jpg    RG             1  validation   \n",
       "2794  EyePACS-TRAIN-RG-2794.jpg    RG             1  validation   \n",
       "2696  EyePACS-TRAIN-RG-2696.jpg    RG             1  validation   \n",
       "2585  EyePACS-TRAIN-RG-2585.jpg    RG             1  validation   \n",
       "2637  EyePACS-TRAIN-RG-2637.jpg    RG             1  validation   \n",
       "2537  EyePACS-TRAIN-RG-2537.jpg    RG             1  validation   \n",
       "2732  EyePACS-TRAIN-RG-2732.jpg    RG             1  validation   \n",
       "2707  EyePACS-TRAIN-RG-2707.jpg    RG             1  validation   \n",
       "2577  EyePACS-TRAIN-RG-2577.jpg    RG             1  validation   \n",
       "\n",
       "     source_dataset relative_file_type  \\\n",
       "id                                       \n",
       "2580  EyePACS-TRAIN                jpg   \n",
       "2617  EyePACS-TRAIN                jpg   \n",
       "2794  EyePACS-TRAIN                jpg   \n",
       "2696  EyePACS-TRAIN                jpg   \n",
       "2585  EyePACS-TRAIN                jpg   \n",
       "2637  EyePACS-TRAIN                jpg   \n",
       "2537  EyePACS-TRAIN                jpg   \n",
       "2732  EyePACS-TRAIN                jpg   \n",
       "2707  EyePACS-TRAIN                jpg   \n",
       "2577  EyePACS-TRAIN                jpg   \n",
       "\n",
       "                                    file_path  \n",
       "id                                             \n",
       "2580  /eyepac-light-v2-512-jpg/validation/RG/  \n",
       "2617  /eyepac-light-v2-512-jpg/validation/RG/  \n",
       "2794  /eyepac-light-v2-512-jpg/validation/RG/  \n",
       "2696  /eyepac-light-v2-512-jpg/validation/RG/  \n",
       "2585  /eyepac-light-v2-512-jpg/validation/RG/  \n",
       "2637  /eyepac-light-v2-512-jpg/validation/RG/  \n",
       "2537  /eyepac-light-v2-512-jpg/validation/RG/  \n",
       "2732  /eyepac-light-v2-512-jpg/validation/RG/  \n",
       "2707  /eyepac-light-v2-512-jpg/validation/RG/  \n",
       "2577  /eyepac-light-v2-512-jpg/validation/RG/  "
      ]
     },
     "execution_count": 36,
     "metadata": {},
     "output_type": "execute_result"
    }
   ],
   "source": [
    "df.head(10)"
   ]
  },
  {
   "cell_type": "code",
   "execution_count": 40,
   "metadata": {},
   "outputs": [],
   "source": [
    "df.sort_index(inplace=True)"
   ]
  },
  {
   "cell_type": "code",
   "execution_count": 41,
   "metadata": {},
   "outputs": [
    {
     "data": {
      "text/html": [
       "<div>\n",
       "<style scoped>\n",
       "    .dataframe tbody tr th:only-of-type {\n",
       "        vertical-align: middle;\n",
       "    }\n",
       "\n",
       "    .dataframe tbody tr th {\n",
       "        vertical-align: top;\n",
       "    }\n",
       "\n",
       "    .dataframe thead th {\n",
       "        text-align: right;\n",
       "    }\n",
       "</style>\n",
       "<table border=\"1\" class=\"dataframe\">\n",
       "  <thead>\n",
       "    <tr style=\"text-align: right;\">\n",
       "      <th></th>\n",
       "      <th>file_name</th>\n",
       "      <th>label</th>\n",
       "      <th>label_binary</th>\n",
       "      <th>folder</th>\n",
       "      <th>source_dataset</th>\n",
       "      <th>relative_file_type</th>\n",
       "      <th>file_path</th>\n",
       "    </tr>\n",
       "    <tr>\n",
       "      <th>id</th>\n",
       "      <th></th>\n",
       "      <th></th>\n",
       "      <th></th>\n",
       "      <th></th>\n",
       "      <th></th>\n",
       "      <th></th>\n",
       "      <th></th>\n",
       "    </tr>\n",
       "  </thead>\n",
       "  <tbody>\n",
       "    <tr>\n",
       "      <th>1</th>\n",
       "      <td>EyePACS-TRAIN-RG-1.jpg</td>\n",
       "      <td>RG</td>\n",
       "      <td>1</td>\n",
       "      <td>train</td>\n",
       "      <td>EyePACS-TRAIN</td>\n",
       "      <td>jpg</td>\n",
       "      <td>/eyepac-light-v2-512-jpg/train/RG/</td>\n",
       "    </tr>\n",
       "    <tr>\n",
       "      <th>1</th>\n",
       "      <td>EyePACS-DEV-NRG-1.jpg</td>\n",
       "      <td>NRG</td>\n",
       "      <td>0</td>\n",
       "      <td>train</td>\n",
       "      <td>EyePACS-DEV</td>\n",
       "      <td>jpg</td>\n",
       "      <td>/eyepac-light-v2-512-jpg/train/NRG/</td>\n",
       "    </tr>\n",
       "    <tr>\n",
       "      <th>1</th>\n",
       "      <td>EyePACS-TRAIN-NRG-1.jpg</td>\n",
       "      <td>NRG</td>\n",
       "      <td>0</td>\n",
       "      <td>train</td>\n",
       "      <td>EyePACS-TRAIN</td>\n",
       "      <td>jpg</td>\n",
       "      <td>/eyepac-light-v2-512-jpg/train/NRG/</td>\n",
       "    </tr>\n",
       "    <tr>\n",
       "      <th>1</th>\n",
       "      <td>EyePACS-DEV-RG-1.jpg</td>\n",
       "      <td>RG</td>\n",
       "      <td>1</td>\n",
       "      <td>train</td>\n",
       "      <td>EyePACS-DEV</td>\n",
       "      <td>jpg</td>\n",
       "      <td>/eyepac-light-v2-512-jpg/train/RG/</td>\n",
       "    </tr>\n",
       "    <tr>\n",
       "      <th>2</th>\n",
       "      <td>EyePACS-DEV-RG-2.jpg</td>\n",
       "      <td>RG</td>\n",
       "      <td>1</td>\n",
       "      <td>train</td>\n",
       "      <td>EyePACS-DEV</td>\n",
       "      <td>jpg</td>\n",
       "      <td>/eyepac-light-v2-512-jpg/train/RG/</td>\n",
       "    </tr>\n",
       "    <tr>\n",
       "      <th>2</th>\n",
       "      <td>EyePACS-TRAIN-RG-2.jpg</td>\n",
       "      <td>RG</td>\n",
       "      <td>1</td>\n",
       "      <td>train</td>\n",
       "      <td>EyePACS-TRAIN</td>\n",
       "      <td>jpg</td>\n",
       "      <td>/eyepac-light-v2-512-jpg/train/RG/</td>\n",
       "    </tr>\n",
       "    <tr>\n",
       "      <th>2</th>\n",
       "      <td>EyePACS-DEV-NRG-2.jpg</td>\n",
       "      <td>NRG</td>\n",
       "      <td>0</td>\n",
       "      <td>train</td>\n",
       "      <td>EyePACS-DEV</td>\n",
       "      <td>jpg</td>\n",
       "      <td>/eyepac-light-v2-512-jpg/train/NRG/</td>\n",
       "    </tr>\n",
       "    <tr>\n",
       "      <th>2</th>\n",
       "      <td>EyePACS-TRAIN-NRG-2.jpg</td>\n",
       "      <td>NRG</td>\n",
       "      <td>0</td>\n",
       "      <td>train</td>\n",
       "      <td>EyePACS-TRAIN</td>\n",
       "      <td>jpg</td>\n",
       "      <td>/eyepac-light-v2-512-jpg/train/NRG/</td>\n",
       "    </tr>\n",
       "    <tr>\n",
       "      <th>3</th>\n",
       "      <td>EyePACS-TRAIN-NRG-3.jpg</td>\n",
       "      <td>NRG</td>\n",
       "      <td>0</td>\n",
       "      <td>train</td>\n",
       "      <td>EyePACS-TRAIN</td>\n",
       "      <td>jpg</td>\n",
       "      <td>/eyepac-light-v2-512-jpg/train/NRG/</td>\n",
       "    </tr>\n",
       "    <tr>\n",
       "      <th>3</th>\n",
       "      <td>EyePACS-DEV-RG-3.jpg</td>\n",
       "      <td>RG</td>\n",
       "      <td>1</td>\n",
       "      <td>train</td>\n",
       "      <td>EyePACS-DEV</td>\n",
       "      <td>jpg</td>\n",
       "      <td>/eyepac-light-v2-512-jpg/train/RG/</td>\n",
       "    </tr>\n",
       "  </tbody>\n",
       "</table>\n",
       "</div>"
      ],
      "text/plain": [
       "                  file_name label  label_binary folder source_dataset  \\\n",
       "id                                                                      \n",
       "1    EyePACS-TRAIN-RG-1.jpg    RG             1  train  EyePACS-TRAIN   \n",
       "1     EyePACS-DEV-NRG-1.jpg   NRG             0  train    EyePACS-DEV   \n",
       "1   EyePACS-TRAIN-NRG-1.jpg   NRG             0  train  EyePACS-TRAIN   \n",
       "1      EyePACS-DEV-RG-1.jpg    RG             1  train    EyePACS-DEV   \n",
       "2      EyePACS-DEV-RG-2.jpg    RG             1  train    EyePACS-DEV   \n",
       "2    EyePACS-TRAIN-RG-2.jpg    RG             1  train  EyePACS-TRAIN   \n",
       "2     EyePACS-DEV-NRG-2.jpg   NRG             0  train    EyePACS-DEV   \n",
       "2   EyePACS-TRAIN-NRG-2.jpg   NRG             0  train  EyePACS-TRAIN   \n",
       "3   EyePACS-TRAIN-NRG-3.jpg   NRG             0  train  EyePACS-TRAIN   \n",
       "3      EyePACS-DEV-RG-3.jpg    RG             1  train    EyePACS-DEV   \n",
       "\n",
       "   relative_file_type                            file_path  \n",
       "id                                                          \n",
       "1                 jpg   /eyepac-light-v2-512-jpg/train/RG/  \n",
       "1                 jpg  /eyepac-light-v2-512-jpg/train/NRG/  \n",
       "1                 jpg  /eyepac-light-v2-512-jpg/train/NRG/  \n",
       "1                 jpg   /eyepac-light-v2-512-jpg/train/RG/  \n",
       "2                 jpg   /eyepac-light-v2-512-jpg/train/RG/  \n",
       "2                 jpg   /eyepac-light-v2-512-jpg/train/RG/  \n",
       "2                 jpg  /eyepac-light-v2-512-jpg/train/NRG/  \n",
       "2                 jpg  /eyepac-light-v2-512-jpg/train/NRG/  \n",
       "3                 jpg  /eyepac-light-v2-512-jpg/train/NRG/  \n",
       "3                 jpg   /eyepac-light-v2-512-jpg/train/RG/  "
      ]
     },
     "execution_count": 41,
     "metadata": {},
     "output_type": "execute_result"
    }
   ],
   "source": [
    "df.head(10)"
   ]
  },
  {
   "cell_type": "code",
   "execution_count": 42,
   "metadata": {},
   "outputs": [
    {
     "data": {
      "text/html": [
       "<div>\n",
       "<style scoped>\n",
       "    .dataframe tbody tr th:only-of-type {\n",
       "        vertical-align: middle;\n",
       "    }\n",
       "\n",
       "    .dataframe tbody tr th {\n",
       "        vertical-align: top;\n",
       "    }\n",
       "\n",
       "    .dataframe thead th {\n",
       "        text-align: right;\n",
       "    }\n",
       "</style>\n",
       "<table border=\"1\" class=\"dataframe\">\n",
       "  <thead>\n",
       "    <tr style=\"text-align: right;\">\n",
       "      <th></th>\n",
       "      <th>file_name</th>\n",
       "      <th>label</th>\n",
       "      <th>label_binary</th>\n",
       "      <th>folder</th>\n",
       "      <th>source_dataset</th>\n",
       "      <th>relative_file_type</th>\n",
       "      <th>file_path</th>\n",
       "    </tr>\n",
       "    <tr>\n",
       "      <th>id</th>\n",
       "      <th></th>\n",
       "      <th></th>\n",
       "      <th></th>\n",
       "      <th></th>\n",
       "      <th></th>\n",
       "      <th></th>\n",
       "      <th></th>\n",
       "    </tr>\n",
       "  </thead>\n",
       "  <tbody>\n",
       "    <tr>\n",
       "      <th>3266</th>\n",
       "      <td>EyePACS-TRAIN-RG-3266.jpg</td>\n",
       "      <td>RG</td>\n",
       "      <td>1</td>\n",
       "      <td>test</td>\n",
       "      <td>EyePACS-TRAIN</td>\n",
       "      <td>jpg</td>\n",
       "      <td>/eyepac-light-v2-512-jpg/test/RG/</td>\n",
       "    </tr>\n",
       "    <tr>\n",
       "      <th>3266</th>\n",
       "      <td>EyePACS-TRAIN-NRG-3266.jpg</td>\n",
       "      <td>NRG</td>\n",
       "      <td>0</td>\n",
       "      <td>test</td>\n",
       "      <td>EyePACS-TRAIN</td>\n",
       "      <td>jpg</td>\n",
       "      <td>/eyepac-light-v2-512-jpg/test/NRG/</td>\n",
       "    </tr>\n",
       "    <tr>\n",
       "      <th>3267</th>\n",
       "      <td>EyePACS-TRAIN-RG-3267.jpg</td>\n",
       "      <td>RG</td>\n",
       "      <td>1</td>\n",
       "      <td>test</td>\n",
       "      <td>EyePACS-TRAIN</td>\n",
       "      <td>jpg</td>\n",
       "      <td>/eyepac-light-v2-512-jpg/test/RG/</td>\n",
       "    </tr>\n",
       "    <tr>\n",
       "      <th>3267</th>\n",
       "      <td>EyePACS-TRAIN-NRG-3267.jpg</td>\n",
       "      <td>NRG</td>\n",
       "      <td>0</td>\n",
       "      <td>test</td>\n",
       "      <td>EyePACS-TRAIN</td>\n",
       "      <td>jpg</td>\n",
       "      <td>/eyepac-light-v2-512-jpg/test/NRG/</td>\n",
       "    </tr>\n",
       "    <tr>\n",
       "      <th>3268</th>\n",
       "      <td>EyePACS-TRAIN-NRG-3268.jpg</td>\n",
       "      <td>NRG</td>\n",
       "      <td>0</td>\n",
       "      <td>test</td>\n",
       "      <td>EyePACS-TRAIN</td>\n",
       "      <td>jpg</td>\n",
       "      <td>/eyepac-light-v2-512-jpg/test/NRG/</td>\n",
       "    </tr>\n",
       "    <tr>\n",
       "      <th>3268</th>\n",
       "      <td>EyePACS-TRAIN-RG-3268.jpg</td>\n",
       "      <td>RG</td>\n",
       "      <td>1</td>\n",
       "      <td>test</td>\n",
       "      <td>EyePACS-TRAIN</td>\n",
       "      <td>jpg</td>\n",
       "      <td>/eyepac-light-v2-512-jpg/test/RG/</td>\n",
       "    </tr>\n",
       "    <tr>\n",
       "      <th>3269</th>\n",
       "      <td>EyePACS-TRAIN-RG-3269.jpg</td>\n",
       "      <td>RG</td>\n",
       "      <td>1</td>\n",
       "      <td>test</td>\n",
       "      <td>EyePACS-TRAIN</td>\n",
       "      <td>jpg</td>\n",
       "      <td>/eyepac-light-v2-512-jpg/test/RG/</td>\n",
       "    </tr>\n",
       "    <tr>\n",
       "      <th>3269</th>\n",
       "      <td>EyePACS-TRAIN-NRG-3269.jpg</td>\n",
       "      <td>NRG</td>\n",
       "      <td>0</td>\n",
       "      <td>test</td>\n",
       "      <td>EyePACS-TRAIN</td>\n",
       "      <td>jpg</td>\n",
       "      <td>/eyepac-light-v2-512-jpg/test/NRG/</td>\n",
       "    </tr>\n",
       "    <tr>\n",
       "      <th>3270</th>\n",
       "      <td>EyePACS-TRAIN-RG-3270.jpg</td>\n",
       "      <td>RG</td>\n",
       "      <td>1</td>\n",
       "      <td>test</td>\n",
       "      <td>EyePACS-TRAIN</td>\n",
       "      <td>jpg</td>\n",
       "      <td>/eyepac-light-v2-512-jpg/test/RG/</td>\n",
       "    </tr>\n",
       "    <tr>\n",
       "      <th>3270</th>\n",
       "      <td>EyePACS-TRAIN-NRG-3270.jpg</td>\n",
       "      <td>NRG</td>\n",
       "      <td>0</td>\n",
       "      <td>test</td>\n",
       "      <td>EyePACS-TRAIN</td>\n",
       "      <td>jpg</td>\n",
       "      <td>/eyepac-light-v2-512-jpg/test/NRG/</td>\n",
       "    </tr>\n",
       "  </tbody>\n",
       "</table>\n",
       "</div>"
      ],
      "text/plain": [
       "                       file_name label  label_binary folder source_dataset  \\\n",
       "id                                                                           \n",
       "3266   EyePACS-TRAIN-RG-3266.jpg    RG             1   test  EyePACS-TRAIN   \n",
       "3266  EyePACS-TRAIN-NRG-3266.jpg   NRG             0   test  EyePACS-TRAIN   \n",
       "3267   EyePACS-TRAIN-RG-3267.jpg    RG             1   test  EyePACS-TRAIN   \n",
       "3267  EyePACS-TRAIN-NRG-3267.jpg   NRG             0   test  EyePACS-TRAIN   \n",
       "3268  EyePACS-TRAIN-NRG-3268.jpg   NRG             0   test  EyePACS-TRAIN   \n",
       "3268   EyePACS-TRAIN-RG-3268.jpg    RG             1   test  EyePACS-TRAIN   \n",
       "3269   EyePACS-TRAIN-RG-3269.jpg    RG             1   test  EyePACS-TRAIN   \n",
       "3269  EyePACS-TRAIN-NRG-3269.jpg   NRG             0   test  EyePACS-TRAIN   \n",
       "3270   EyePACS-TRAIN-RG-3270.jpg    RG             1   test  EyePACS-TRAIN   \n",
       "3270  EyePACS-TRAIN-NRG-3270.jpg   NRG             0   test  EyePACS-TRAIN   \n",
       "\n",
       "     relative_file_type                           file_path  \n",
       "id                                                           \n",
       "3266                jpg   /eyepac-light-v2-512-jpg/test/RG/  \n",
       "3266                jpg  /eyepac-light-v2-512-jpg/test/NRG/  \n",
       "3267                jpg   /eyepac-light-v2-512-jpg/test/RG/  \n",
       "3267                jpg  /eyepac-light-v2-512-jpg/test/NRG/  \n",
       "3268                jpg  /eyepac-light-v2-512-jpg/test/NRG/  \n",
       "3268                jpg   /eyepac-light-v2-512-jpg/test/RG/  \n",
       "3269                jpg   /eyepac-light-v2-512-jpg/test/RG/  \n",
       "3269                jpg  /eyepac-light-v2-512-jpg/test/NRG/  \n",
       "3270                jpg   /eyepac-light-v2-512-jpg/test/RG/  \n",
       "3270                jpg  /eyepac-light-v2-512-jpg/test/NRG/  "
      ]
     },
     "execution_count": 42,
     "metadata": {},
     "output_type": "execute_result"
    }
   ],
   "source": [
    "df.tail(10)"
   ]
  },
  {
   "cell_type": "markdown",
   "metadata": {},
   "source": [
    "### Jadval o'lchami"
   ]
  },
  {
   "cell_type": "code",
   "execution_count": 43,
   "metadata": {},
   "outputs": [
    {
     "data": {
      "text/plain": [
       "(9540, 7)"
      ]
     },
     "execution_count": 43,
     "metadata": {},
     "output_type": "execute_result"
    }
   ],
   "source": [
    "df.shape"
   ]
  },
  {
   "cell_type": "code",
   "execution_count": 44,
   "metadata": {},
   "outputs": [
    {
     "data": {
      "text/plain": [
       "file_name             0\n",
       "label                 0\n",
       "label_binary          0\n",
       "folder                0\n",
       "source_dataset        0\n",
       "relative_file_type    0\n",
       "file_path             0\n",
       "dtype: int64"
      ]
     },
     "execution_count": 44,
     "metadata": {},
     "output_type": "execute_result"
    }
   ],
   "source": [
    "df.isnull().sum()"
   ]
  },
  {
   "cell_type": "code",
   "execution_count": 45,
   "metadata": {},
   "outputs": [
    {
     "data": {
      "text/plain": [
       "0"
      ]
     },
     "execution_count": 45,
     "metadata": {},
     "output_type": "execute_result"
    }
   ],
   "source": [
    "df.duplicated().sum()"
   ]
  },
  {
   "cell_type": "code",
   "execution_count": 46,
   "metadata": {},
   "outputs": [
    {
     "data": {
      "text/plain": [
       "label\n",
       "RG     4770\n",
       "NRG    4770\n",
       "Name: count, dtype: int64"
      ]
     },
     "execution_count": 46,
     "metadata": {},
     "output_type": "execute_result"
    }
   ],
   "source": [
    "df['label'].value_counts()"
   ]
  },
  {
   "cell_type": "code",
   "execution_count": 53,
   "metadata": {},
   "outputs": [
    {
     "data": {
      "image/png": "[encoded data removed]",
      "text/plain": [
       "<Figure size 1200x800 with 1 Axes>"
      ]
     },
     "metadata": {},
     "output_type": "display_data"
    }
   ],
   "source": [
    "plt.figure(figsize=(12,8))\n",
    "sns.barplot(data=df['label'])\n",
    "plt.title(\"RG va NRG taqsimoti\")\n",
    "plt.xlabel(\"Jami elementlar soni\")\n",
    "plt.ylabel(\"Class\")\n",
    "plt.grid()\n",
    "plt.show()"
   ]
  },
  {
   "cell_type": "code",
   "execution_count": 54,
   "metadata": {},
   "outputs": [
    {
     "data": {
      "image/png": "[encoded data removed]",
      "text/plain": [
       "<Figure size 1200x800 with 1 Axes>"
      ]
     },
     "metadata": {},
     "output_type": "display_data"
    }
   ],
   "source": [
    "plt.figure(figsize=(12,8))\n",
    "sns.barplot(data=df,x=df.index,y=df['label'],hue=df['folder'])\n",
    "plt.title(\"RG va NRG ning train, validtion va test qiymat bo'yicha taqsimoti\")\n",
    "plt.xlabel(\"Jami elementlar soni\")\n",
    "plt.ylabel(\"Class\")\n",
    "plt.grid()\n",
    "plt.show()"
   ]
  },
  {
   "cell_type": "code",
   "execution_count": 49,
   "metadata": {},
   "outputs": [
    {
     "data": {
      "text/plain": [
       "folder\n",
       "train         8000\n",
       "validation     770\n",
       "test           770\n",
       "Name: count, dtype: int64"
      ]
     },
     "execution_count": 49,
     "metadata": {},
     "output_type": "execute_result"
    }
   ],
   "source": [
    "df['folder'].value_counts()"
   ]
  },
  {
   "cell_type": "code",
   "execution_count": 59,
   "metadata": {},
   "outputs": [
    {
     "data": {
      "image/png": "[encoded data removed]",
      "text/plain": [
       "<Figure size 1200x800 with 1 Axes>"
      ]
     },
     "metadata": {},
     "output_type": "display_data"
    }
   ],
   "source": [
    "plt.figure(figsize=(12, 8))\n",
    "ax = sns.countplot(data=df, x='folder')\n",
    "\n",
    "for p in ax.patches:\n",
    "    height = p.get_height()\n",
    "    ax.annotate(f'{height}', \n",
    "                xy=(p.get_x() + p.get_width() / 2., height),\n",
    "                xytext=(0, 5),  # 5 points vertical offset\n",
    "                textcoords='offset points',\n",
    "                ha='center', va='center')\n",
    "\n",
    "plt.title(\"Train, Validation va Test larning taqsimoti\")\n",
    "plt.xlabel(\"Folder nomlari\")\n",
    "plt.ylabel(\"Jami elementlar soni\")\n",
    "plt.grid(True)\n",
    "plt.show()"
   ]
  },
  {
   "cell_type": "code",
   "execution_count": null,
   "metadata": {},
   "outputs": [],
   "source": []
  }
 ],
 "metadata": {
  "kernelspec": {
   "display_name": "C++ amaliyot",
   "language": "python",
   "name": "python3"
  },
  "language_info": {
   "codemirror_mode": {
    "name": "ipython",
    "version": 3
   },
   "file_extension": ".py",
   "mimetype": "text/x-python",
   "name": "python",
   "nbconvert_exporter": "python",
   "pygments_lexer": "ipython3",
   "version": "3.9.2"
  },
  "orig_nbformat": 4
 },
 "nbformat": 4,
 "nbformat_minor": 2
}
